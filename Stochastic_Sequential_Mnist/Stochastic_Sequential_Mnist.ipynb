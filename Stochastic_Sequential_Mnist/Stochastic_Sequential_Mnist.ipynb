{
 "cells": [
  {
   "cell_type": "code",
   "execution_count": 1,
   "metadata": {},
   "outputs": [],
   "source": [
    "import tensorflow as tf\n",
    "import matplotlib.pyplot as plt\n",
    "import uncertainty_wizard as uwiz\n",
    "uwiz.models.ensemble_utils.DynamicGpuGrowthContextManager.enable_dynamic_gpu_growth()"
   ]
  },
  {
   "cell_type": "code",
   "execution_count": 2,
   "metadata": {},
   "outputs": [
    {
     "name": "stdout",
     "output_type": "stream",
     "text": [
      "Training data:        (60000, 28, 28)\n",
      "Training solution:    (60000,)\n",
      "Test data:            (10000, 28, 28)\n",
      "Test solution:        (10000,)\n"
     ]
    },
    {
     "data": {
      "image/png": "[encoded data removed]",
      "text/plain": [
       "<Figure size 432x288 with 10 Axes>"
      ]
     },
     "metadata": {
      "needs_background": "light"
     },
     "output_type": "display_data"
    },
    {
     "name": "stdout",
     "output_type": "stream",
     "text": [
      "Training data:        (60000, 28, 28, 1)\n",
      "Training solution:    (60000, 10)\n",
      "Test data:            (10000, 28, 28, 1)\n",
      "Test solution:        (10000, 10)\n"
     ]
    }
   ],
   "source": [
    "\n",
    "\n",
    "(x_train, y_train), (x_test, y_test) = tf.keras.datasets.mnist.load_data()\n",
    "\n",
    "print(\"Training data:       \", x_train.shape)\n",
    "print(\"Training solution:   \", y_train.shape)\n",
    "print(\"Test data:           \", x_test.shape)\n",
    "print(\"Test solution:       \", y_test.shape)\n",
    "\n",
    "fig, axes = plt.subplots(1, 10)\n",
    "for i in range(10):\n",
    "    axes[i].imshow(x_train[i], cmap='gray', vmin=0, vmax=255)\n",
    "    axes[i].set_title(f\"S: {y_train[i]}\")\n",
    "    axes[i].axis('off')\n",
    "plt.show()\n",
    "\n",
    "x_train = (x_train.astype('float32') / 255).reshape(x_train.shape[0], 28, 28, 1)\n",
    "y_train = tf.keras.utils.to_categorical(y_train, num_classes=10)\n",
    "x_test = (x_test.astype('float32') / 255).reshape(x_test.shape[0], 28, 28, 1)\n",
    "y_test = tf.keras.utils.to_categorical(y_test, num_classes=10)      #??????????\n",
    "\n",
    "print(\"Training data:       \", x_train.shape)\n",
    "print(\"Training solution:   \", y_train.shape)\n",
    "print(\"Test data:           \", x_test.shape)\n",
    "print(\"Test solution:       \", y_test.shape)\n"
   ]
  },
  {
   "cell_type": "markdown",
   "metadata": {},
   "source": [
    "* functions (imshow) from Matplotlib Documentation. REF: https://matplotlib.org/stable/api/_as_gen/matplotlib.pyplot.imshow.html\n",
    "\n",
    "* Adding a new dimension(1) for train and test, because the color is just black or white and no extra color.\n",
    "* Divide with 255 so we can change the (0 - 255) to (0 or 1)"
   ]
  },
  {
   "cell_type": "code",
   "execution_count": 3,
   "metadata": {},
   "outputs": [
    {
     "name": "stdout",
     "output_type": "stream",
     "text": [
      "WARNING:tensorflow:From /home/jopo/anaconda3/envs/fihajo/lib/python3.6/site-packages/tensorflow_core/python/ops/resource_variable_ops.py:1630: calling BaseResourceVariable.__init__ (from tensorflow.python.ops.resource_variable_ops) with constraint is deprecated and will be removed in a future version.\n",
      "Instructions for updating:\n",
      "If using Keras pass *_constraint arguments to layers.\n",
      "Train on 54000 samples, validate on 6000 samples\n",
      "Epoch 1/20\n",
      "54000/54000 [==============================] - 2s 40us/sample - loss: 2.3118 - acc: 0.0936 - val_loss: 2.3085 - val_acc: 0.0965\n",
      "Epoch 2/20\n",
      "54000/54000 [==============================] - 1s 19us/sample - loss: 2.3105 - acc: 0.0941 - val_loss: 2.3065 - val_acc: 0.1013\n",
      "Epoch 3/20\n",
      "54000/54000 [==============================] - 1s 19us/sample - loss: 2.3085 - acc: 0.0983 - val_loss: 2.3045 - val_acc: 0.1093\n",
      "Epoch 4/20\n",
      "54000/54000 [==============================] - 1s 19us/sample - loss: 2.3074 - acc: 0.1009 - val_loss: 2.3025 - val_acc: 0.1182\n",
      "Epoch 5/20\n",
      "54000/54000 [==============================] - 1s 19us/sample - loss: 2.3052 - acc: 0.1039 - val_loss: 2.3005 - val_acc: 0.1282\n",
      "Epoch 6/20\n",
      "54000/54000 [==============================] - 1s 19us/sample - loss: 2.3040 - acc: 0.1067 - val_loss: 2.2984 - val_acc: 0.1363\n",
      "Epoch 7/20\n",
      "54000/54000 [==============================] - 1s 19us/sample - loss: 2.3019 - acc: 0.1090 - val_loss: 2.2964 - val_acc: 0.1448\n",
      "Epoch 8/20\n",
      "54000/54000 [==============================] - 1s 19us/sample - loss: 2.3002 - acc: 0.1114 - val_loss: 2.2943 - val_acc: 0.1505\n",
      "Epoch 9/20\n",
      "54000/54000 [==============================] - 1s 19us/sample - loss: 2.2986 - acc: 0.1146 - val_loss: 2.2922 - val_acc: 0.1588\n",
      "Epoch 10/20\n",
      "54000/54000 [==============================] - 1s 19us/sample - loss: 2.2967 - acc: 0.1200 - val_loss: 2.2901 - val_acc: 0.1678\n",
      "Epoch 11/20\n",
      "54000/54000 [==============================] - 1s 19us/sample - loss: 2.2949 - acc: 0.1227 - val_loss: 2.2880 - val_acc: 0.1730\n",
      "Epoch 12/20\n",
      "54000/54000 [==============================] - 1s 19us/sample - loss: 2.2935 - acc: 0.1269 - val_loss: 2.2859 - val_acc: 0.1807\n",
      "Epoch 13/20\n",
      "54000/54000 [==============================] - 1s 19us/sample - loss: 2.2917 - acc: 0.1280 - val_loss: 2.2838 - val_acc: 0.1872\n",
      "Epoch 14/20\n",
      "54000/54000 [==============================] - 1s 19us/sample - loss: 2.2893 - acc: 0.1346 - val_loss: 2.2816 - val_acc: 0.1943\n",
      "Epoch 15/20\n",
      "54000/54000 [==============================] - 1s 19us/sample - loss: 2.2875 - acc: 0.1378 - val_loss: 2.2794 - val_acc: 0.2010\n",
      "Epoch 16/20\n",
      "54000/54000 [==============================] - 1s 19us/sample - loss: 2.2860 - acc: 0.1422 - val_loss: 2.2772 - val_acc: 0.2063\n",
      "Epoch 17/20\n",
      "54000/54000 [==============================] - 1s 19us/sample - loss: 2.2843 - acc: 0.1436 - val_loss: 2.2750 - val_acc: 0.2138\n",
      "Epoch 18/20\n",
      "54000/54000 [==============================] - 1s 19us/sample - loss: 2.2826 - acc: 0.1470 - val_loss: 2.2728 - val_acc: 0.2205\n",
      "Epoch 19/20\n",
      "54000/54000 [==============================] - 1s 19us/sample - loss: 2.2801 - acc: 0.1507 - val_loss: 2.2705 - val_acc: 0.2263\n",
      "Epoch 20/20\n",
      "54000/54000 [==============================] - 1s 19us/sample - loss: 2.2792 - acc: 0.1538 - val_loss: 2.2682 - val_acc: 0.2347\n",
      "Model: \"sequential\"\n",
      "_________________________________________________________________\n",
      "Layer (type)                 Output Shape              Param #   \n",
      "=================================================================\n",
      "conv2d (Conv2D)              (None, 26, 26, 32)        320       \n",
      "_________________________________________________________________\n",
      "conv2d_1 (Conv2D)            (None, 24, 24, 64)        18496     \n",
      "_________________________________________________________________\n",
      "max_pooling2d (MaxPooling2D) (None, 12, 12, 64)        0         \n",
      "_________________________________________________________________\n",
      "uwiz_bernoulli_dropout (Uwiz (None, 12, 12, 64)        0         \n",
      "_________________________________________________________________\n",
      "flatten (Flatten)            (None, 9216)              0         \n",
      "_________________________________________________________________\n",
      "dense (Dense)                (None, 128)               1179776   \n",
      "_________________________________________________________________\n",
      "dense_1 (Dense)              (None, 10)                1290      \n",
      "=================================================================\n",
      "Total params: 1,199,883\n",
      "Trainable params: 1,199,882\n",
      "Non-trainable params: 1\n",
      "_________________________________________________________________\n",
      "None\n"
     ]
    },
    {
     "data": {
      "image/png": "[encoded data removed]",
      "text/plain": [
       "<Figure size 432x288 with 1 Axes>"
      ]
     },
     "metadata": {
      "needs_background": "light"
     },
     "output_type": "display_data"
    }
   ],
   "source": [
    "\n",
    "# model = tf.keras.models.Sequential()\n",
    "model = uwiz.models.StochasticSequential()\n",
    "\n",
    "# model.add(tf.keras.layers.Conv2D(filters, kernel_size=(size), activation='methods', input_shape=(shape info)))\n",
    "model.add(tf.keras.layers.Conv2D(32, kernel_size=(3, 3), activation='relu', input_shape=(28, 28, 1)))\n",
    "model.add(tf.keras.layers.Conv2D(64, (3, 3), activation='relu'))\n",
    "\n",
    "# model.add(tf.keras.layers.MaxPooling2D(pool_size=(max pooling height and width)))\n",
    "model.add(tf.keras.layers.MaxPooling2D(pool_size=(2, 2)))\n",
    "\n",
    "# model.add(tf.keras.layers.Dropout(fraction %)) \n",
    "model.add(tf.keras.layers.Dropout(0.5))\n",
    "\n",
    "model.add(tf.keras.layers.Flatten())\n",
    "\n",
    "# model.add(tf.keras.layers.Dense(digits, activation='methods'))\n",
    "model.add(tf.keras.layers.Dense(128, activation='relu'))\n",
    "model.add(tf.keras.layers.Dense(10, activation='softmax'))\n",
    "\n",
    "model.compile(loss=tf.keras.losses.categorical_crossentropy,\n",
    "              optimizer=tf.keras.optimizers.Adadelta(),\n",
    "              metrics=['accuracy'])\n",
    "\n",
    "model_info = model.fit(x_train, y_train, validation_split=0.1, batch_size=5000, epochs=20,\n",
    "                  verbose=1, callbacks=[tf.keras.callbacks.EarlyStopping(patience=2)])\n",
    "\n",
    "print(model.inner.summary())\n",
    "\n",
    "\n",
    "plt.plot(model_info.history['loss'], label='Training Loss')\n",
    "plt.plot(model_info.history['val_loss'], label='Validation Loss')\n",
    "\n",
    "plt.title('Model Loss')\n",
    "plt.ylabel('Loss')\n",
    "plt.xlabel('Epoch')\n",
    "plt.legend()\n",
    "plt.show()"
   ]
  },
  {
   "cell_type": "markdown",
   "metadata": {},
   "source": [
    "Uncertainty Wizard\n",
    "* Uncertainty Wizard sequential has same function as Keras sequential, but is specially made to handle uncertainty.\n",
    "\n",
    "epochs\n",
    "\n",
    "Layers Conv2D\n",
    "* Convolutional layer that use the number of filter with different sizes to find different value from edges, corners and so on.\n",
    "\n",
    "Layers MaxPooling2D\n",
    "* Make the data more robust by splitting the 2d-block data and only keeping the highest value from each part.\n",
    "\n",
    "Layers Dropout\n",
    "* Prevent overfitting by having 50% droprate of unit during the traning of the model. It will help out with learn redundant learning and make the progress more robust.\n",
    "\n",
    "Layers Flatten\n",
    "* Flatten it out from 2D array to a 1D array.\n",
    "* Doesn't affect batch size.\n",
    "\n",
    "Layer Dense\n"
   ]
  },
  {
   "cell_type": "code",
   "execution_count": 4,
   "metadata": {},
   "outputs": [
    {
     "name": "stdout",
     "output_type": "stream",
     "text": [
      "   3991/Unknown - 11s 3ms/step"
     ]
    }
   ],
   "source": [
    "quantifiers = ['pcs', 'mean_softmax']\n",
    "results = model.predict_quantified(x_test,\n",
    "                                   quantifier=quantifiers,\n",
    "                                   batch_size=64,\n",
    "                                   sample_size=32,\n",
    "                                   verbose=1)\n",
    "\n",
    "\n",
    "pcs_predictions = results[0][0]\n",
    "pcs_confidences = results[0][1]\n",
    "mean_softmax_predictions = results[1][0]\n",
    "mean_softmax_confidences = results[1][1]\n",
    "\n",
    "plt.hist(pcs_confidences, alpha=0.5, label='pcs confidences')\n",
    "plt.hist(mean_softmax_confidences, bins=50, alpha=0.5, label='Mean softmax confidences')\n",
    "plt.xlabel('Value')\n",
    "plt.ylabel('?????')\n",
    "plt.title('Confidences')\n",
    "plt.legend()\n",
    "plt.show()\n",
    "\n",
    "plt.hist(pcs_predictions, alpha=0.5, label='pcs Predictions', align='left')\n",
    "plt.hist(mean_softmax_predictions, alpha=0.5, label='Mean softmax Predictions', align='left')\n",
    "plt.xlabel('Predictions')\n",
    "plt.ylabel('??????')\n",
    "plt.title('Predictions')\n",
    "plt.legend()\n",
    "plt.show()"
   ]
  }
 ],
 "metadata": {
  "kernelspec": {
   "display_name": "Python 3",
   "language": "python",
   "name": "python3"
  },
  "language_info": {
   "codemirror_mode": {
    "name": "ipython",
    "version": 3
   },
   "file_extension": ".py",
   "mimetype": "text/x-python",
   "name": "python",
   "nbconvert_exporter": "python",
   "pygments_lexer": "ipython3",
   "version": "3.6.13"
  }
 },
 "nbformat": 4,
 "nbformat_minor": 2
}
